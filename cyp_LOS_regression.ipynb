{
 "cells": [
  {
   "cell_type": "markdown",
   "metadata": {},
   "source": [
    "# Introduction\n",
    "\n",
    "The following data set is a first template for a regression of the LOS Feature (Length of Stay). I did not further plot the individual features or their relationsship to each other as this is not the scope of this notebook. Some work regarding an EDA was already provided by @mpwolke.\n",
    "\n",
    "With this notebook I wanted to deliver a first template for a regression of the LOS feature. \n",
    "To achieve some good results I used a MLPRegressor and performed a Random Gridsearch for hyperparameter tuning.\n",
    "\n",
    "Most of the work here went in the feature engineering of the free text Diagnosis feature which in my opinion can be one of the key indicators for the LOS feature.\n",
    "\n",
    "Feel free to comment on my work so that I and you can learn something from this. \n",
    "\n",
    "I hope you have fun reading this notebook. \n",
    "\n",
    "Cheers Dominik\n"
   ]
  },
  {
   "cell_type": "code",
   "execution_count": 1,
   "metadata": {},
   "outputs": [
    {
     "data": {
      "text/html": [
       "<div>\n",
       "<style scoped>\n",
       "    .dataframe tbody tr th:only-of-type {\n",
       "        vertical-align: middle;\n",
       "    }\n",
       "\n",
       "    .dataframe tbody tr th {\n",
       "        vertical-align: top;\n",
       "    }\n",
       "\n",
       "    .dataframe thead th {\n",
       "        text-align: right;\n",
       "    }\n",
       "</style>\n",
       "<table border=\"1\" class=\"dataframe\">\n",
       "  <thead>\n",
       "    <tr style=\"text-align: right;\">\n",
       "      <th></th>\n",
       "      <th>ID</th>\n",
       "      <th>GENDER</th>\n",
       "      <th>AGE</th>\n",
       "      <th>RACE/ETHNICITY</th>\n",
       "      <th>Diagnosis</th>\n",
       "      <th>MD</th>\n",
       "      <th>Assignment</th>\n",
       "      <th>EMR</th>\n",
       "      <th>LOS</th>\n",
       "      <th>RAR</th>\n",
       "      <th>...</th>\n",
       "      <th>X</th>\n",
       "      <th>Y</th>\n",
       "      <th>Z</th>\n",
       "      <th>AA</th>\n",
       "      <th>AB</th>\n",
       "      <th>AC</th>\n",
       "      <th>AD</th>\n",
       "      <th># Psychotropic Medications</th>\n",
       "      <th># Administrations</th>\n",
       "      <th>Therapeutic Guidances</th>\n",
       "    </tr>\n",
       "  </thead>\n",
       "  <tbody>\n",
       "    <tr>\n",
       "      <th>0</th>\n",
       "      <td>1</td>\n",
       "      <td>F</td>\n",
       "      <td>49</td>\n",
       "      <td>W</td>\n",
       "      <td>MDD, Recurrent, Unspecified</td>\n",
       "      <td>L</td>\n",
       "      <td>G</td>\n",
       "      <td>C</td>\n",
       "      <td>70</td>\n",
       "      <td>0</td>\n",
       "      <td>...</td>\n",
       "      <td>0</td>\n",
       "      <td>0</td>\n",
       "      <td>0</td>\n",
       "      <td>0</td>\n",
       "      <td>1</td>\n",
       "      <td>0</td>\n",
       "      <td>0</td>\n",
       "      <td>3</td>\n",
       "      <td>6</td>\n",
       "      <td>EG</td>\n",
       "    </tr>\n",
       "    <tr>\n",
       "      <th>1</th>\n",
       "      <td>2</td>\n",
       "      <td>F</td>\n",
       "      <td>21</td>\n",
       "      <td>W</td>\n",
       "      <td>MDD, Recurrent, Unspecified</td>\n",
       "      <td>A</td>\n",
       "      <td>G</td>\n",
       "      <td>C</td>\n",
       "      <td>309</td>\n",
       "      <td>0</td>\n",
       "      <td>...</td>\n",
       "      <td>0</td>\n",
       "      <td>13</td>\n",
       "      <td>0</td>\n",
       "      <td>0</td>\n",
       "      <td>0</td>\n",
       "      <td>0</td>\n",
       "      <td>0</td>\n",
       "      <td>3</td>\n",
       "      <td>27</td>\n",
       "      <td>CT</td>\n",
       "    </tr>\n",
       "  </tbody>\n",
       "</table>\n",
       "<p>2 rows × 43 columns</p>\n",
       "</div>"
      ],
      "text/plain": [
       "   ID GENDER  AGE RACE/ETHNICITY                    Diagnosis MD Assignment  \\\n",
       "0   1      F   49              W  MDD, Recurrent, Unspecified  L          G   \n",
       "1   2      F   21              W  MDD, Recurrent, Unspecified  A          G   \n",
       "\n",
       "  EMR  LOS  RAR  ...  X   Y  Z  AA  AB  AC  AD  # Psychotropic Medications  \\\n",
       "0   C   70    0  ...  0   0  0   0   1   0   0                           3   \n",
       "1   C  309    0  ...  0  13  0   0   0   0   0                           3   \n",
       "\n",
       "   # Administrations  Therapeutic Guidances  \n",
       "0                  6                     EG  \n",
       "1                 27                     CT  \n",
       "\n",
       "[2 rows x 43 columns]"
      ]
     },
     "execution_count": 1,
     "metadata": {},
     "output_type": "execute_result"
    }
   ],
   "source": [
    "import pandas as pd\n",
    "import numpy as np\n",
    "import matplotlib.pyplot as plt\n",
    "import seaborn as sns\n",
    "\n",
    "import warnings\n",
    "warnings.filterwarnings(\"ignore\")\n",
    "\n",
    "df = pd.read_csv('Dataset.csv',delimiter=',')\n",
    "\n",
    "# random forest classifier\n",
    "df.head(2)"
   ]
  },
  {
   "cell_type": "code",
   "execution_count": null,
   "metadata": {},
   "outputs": [],
   "source": [
    "df."
   ]
  },
  {
   "cell_type": "code",
   "execution_count": 2,
   "metadata": {},
   "outputs": [
    {
     "data": {
      "text/plain": [
       "Index(['ID', 'GENDER', 'AGE', 'RACE/ETHNICITY', 'Diagnosis', 'MD',\n",
       "       'Assignment', 'EMR', 'LOS', 'RAR', 'A', 'B', 'C', 'D', 'E', 'F', 'G',\n",
       "       'H', 'I', 'J', 'K', 'L', 'M', 'N', 'O', 'P', 'Q', 'R', 'S', 'T', 'U',\n",
       "       'V', 'W', 'X', 'Y', 'Z', 'AA', 'AB', 'AC', 'AD',\n",
       "       '# Psychotropic Medications', '# Administrations',\n",
       "       'Therapeutic Guidances'],\n",
       "      dtype='object')"
      ]
     },
     "execution_count": 2,
     "metadata": {},
     "output_type": "execute_result"
    }
   ],
   "source": [
    "df.columns"
   ]
  },
  {
   "cell_type": "code",
   "execution_count": 3,
   "metadata": {},
   "outputs": [],
   "source": [
    "# target variable\n",
    "df.LOS.describe()\n",
    "\n",
    "# los is in hours lets convert it to full days\n",
    "df.LOS = df.LOS.apply(lambda x: round(x/24,0))"
   ]
  },
  {
   "cell_type": "code",
   "execution_count": 4,
   "metadata": {},
   "outputs": [
    {
     "data": {
      "text/plain": [
       "count    1500.000000\n",
       "mean        7.432667\n",
       "std         7.268610\n",
       "min         0.000000\n",
       "25%         4.000000\n",
       "50%         6.000000\n",
       "75%         8.000000\n",
       "max       116.000000\n",
       "Name: LOS, dtype: float64"
      ]
     },
     "execution_count": 4,
     "metadata": {},
     "output_type": "execute_result"
    }
   ],
   "source": [
    "# most patients stay around 7 days\n",
    "df.LOS.describe()"
   ]
  },
  {
   "cell_type": "code",
   "execution_count": 5,
   "metadata": {},
   "outputs": [
    {
     "data": {
      "text/plain": [
       "<AxesSubplot:xlabel='LOS', ylabel='Density'>"
      ]
     },
     "execution_count": 5,
     "metadata": {},
     "output_type": "execute_result"
    },
    {
     "data": {
      "image/png": "[encoded data removed]",
      "text/plain": [
       "<Figure size 432x288 with 1 Axes>"
      ]
     },
     "metadata": {
      "needs_background": "light"
     },
     "output_type": "display_data"
    }
   ],
   "source": [
    "# right skewed distribution\n",
    "# this means, that although most of the patients are in care for 7-8 days few of them are in care up to 116 days\n",
    "import seaborn as sns\n",
    "sns.distplot(df.LOS,kde=True,bins=30)"
   ]
  },
  {
   "cell_type": "code",
   "execution_count": 6,
   "metadata": {},
   "outputs": [],
   "source": [
    "# cast the values to categorical values and substitute them with dummy numerical values\n",
    "df[\"GENDER\"] = df[\"GENDER\"].astype('category').cat.codes\n",
    "df[\"RACE/ETHNICITY\"] = df[\"RACE/ETHNICITY\"].astype('category').cat.codes\n",
    "df['MD'] = df['MD'].astype('category').cat.codes\n",
    "df['Assignment'] = df['Assignment'].astype('category').cat.codes\n",
    "df['EMR'] = df['EMR'].astype('category').cat.codes\n",
    "df['Therapeutic Guidances'] = df['Therapeutic Guidances'].astype('category').cat.codes\n"
   ]
  },
  {
   "cell_type": "code",
   "execution_count": 7,
   "metadata": {},
   "outputs": [
    {
     "data": {
      "text/html": [
       "<div>\n",
       "<style scoped>\n",
       "    .dataframe tbody tr th:only-of-type {\n",
       "        vertical-align: middle;\n",
       "    }\n",
       "\n",
       "    .dataframe tbody tr th {\n",
       "        vertical-align: top;\n",
       "    }\n",
       "\n",
       "    .dataframe thead th {\n",
       "        text-align: right;\n",
       "    }\n",
       "</style>\n",
       "<table border=\"1\" class=\"dataframe\">\n",
       "  <thead>\n",
       "    <tr style=\"text-align: right;\">\n",
       "      <th></th>\n",
       "      <th>ID</th>\n",
       "      <th>GENDER</th>\n",
       "      <th>AGE</th>\n",
       "      <th>RACE/ETHNICITY</th>\n",
       "      <th>Diagnosis</th>\n",
       "      <th>MD</th>\n",
       "      <th>Assignment</th>\n",
       "      <th>EMR</th>\n",
       "      <th>LOS</th>\n",
       "      <th>RAR</th>\n",
       "      <th>...</th>\n",
       "      <th>X</th>\n",
       "      <th>Y</th>\n",
       "      <th>Z</th>\n",
       "      <th>AA</th>\n",
       "      <th>AB</th>\n",
       "      <th>AC</th>\n",
       "      <th>AD</th>\n",
       "      <th># Psychotropic Medications</th>\n",
       "      <th># Administrations</th>\n",
       "      <th>Therapeutic Guidances</th>\n",
       "    </tr>\n",
       "  </thead>\n",
       "  <tbody>\n",
       "    <tr>\n",
       "      <th>0</th>\n",
       "      <td>1</td>\n",
       "      <td>0</td>\n",
       "      <td>49</td>\n",
       "      <td>3</td>\n",
       "      <td>MDD, Recurrent, Unspecified</td>\n",
       "      <td>11</td>\n",
       "      <td>0</td>\n",
       "      <td>0</td>\n",
       "      <td>3.0</td>\n",
       "      <td>0</td>\n",
       "      <td>...</td>\n",
       "      <td>0</td>\n",
       "      <td>0</td>\n",
       "      <td>0</td>\n",
       "      <td>0</td>\n",
       "      <td>1</td>\n",
       "      <td>0</td>\n",
       "      <td>0</td>\n",
       "      <td>3</td>\n",
       "      <td>6</td>\n",
       "      <td>1</td>\n",
       "    </tr>\n",
       "    <tr>\n",
       "      <th>1</th>\n",
       "      <td>2</td>\n",
       "      <td>0</td>\n",
       "      <td>21</td>\n",
       "      <td>3</td>\n",
       "      <td>MDD, Recurrent, Unspecified</td>\n",
       "      <td>0</td>\n",
       "      <td>0</td>\n",
       "      <td>0</td>\n",
       "      <td>13.0</td>\n",
       "      <td>0</td>\n",
       "      <td>...</td>\n",
       "      <td>0</td>\n",
       "      <td>13</td>\n",
       "      <td>0</td>\n",
       "      <td>0</td>\n",
       "      <td>0</td>\n",
       "      <td>0</td>\n",
       "      <td>0</td>\n",
       "      <td>3</td>\n",
       "      <td>27</td>\n",
       "      <td>0</td>\n",
       "    </tr>\n",
       "  </tbody>\n",
       "</table>\n",
       "<p>2 rows × 43 columns</p>\n",
       "</div>"
      ],
      "text/plain": [
       "   ID  GENDER  AGE  RACE/ETHNICITY                    Diagnosis  MD  \\\n",
       "0   1       0   49               3  MDD, Recurrent, Unspecified  11   \n",
       "1   2       0   21               3  MDD, Recurrent, Unspecified   0   \n",
       "\n",
       "   Assignment  EMR   LOS  RAR  ...  X   Y  Z  AA  AB  AC  AD  \\\n",
       "0           0    0   3.0    0  ...  0   0  0   0   1   0   0   \n",
       "1           0    0  13.0    0  ...  0  13  0   0   0   0   0   \n",
       "\n",
       "   # Psychotropic Medications  # Administrations  Therapeutic Guidances  \n",
       "0                           3                  6                      1  \n",
       "1                           3                 27                      0  \n",
       "\n",
       "[2 rows x 43 columns]"
      ]
     },
     "execution_count": 7,
     "metadata": {},
     "output_type": "execute_result"
    }
   ],
   "source": [
    "df.head(2)"
   ]
  },
  {
   "cell_type": "code",
   "execution_count": 8,
   "metadata": {},
   "outputs": [
    {
     "data": {
      "text/plain": [
       "MDD, Recurrent, Severe Without Psychotic Features                                    320\n",
       "Depressive Disorder NOS                                                              265\n",
       "MDD, Recurrent, Unspecified                                                          243\n",
       "MDD, Single Episode,Severe Without Psychotic Features                                238\n",
       "MDD                                                                                  115\n",
       "MDD, Single Episode, Severe With Psychotic Features                                  114\n",
       "MDD, Recurrent, Severe With Psychotic Features                                        84\n",
       "MDD, Single Episode, Unspecified                                                      26\n",
       "MDD, Recurrent, Moderate                                                              16\n",
       "\\tMDD, recurrent episode with anxious distress                                        16\n",
       "MDD, Recurrent, Chronic                                                               13\n",
       "MDD, recurrent, severe                                                                10\n",
       "Severe episode of recurrent major depressive disorder, without psychotic features      5\n",
       "MDD, Single Episode, Moderate                                                          5\n",
       "\\tDepression, unspecified type                                                         5\n",
       "Depression                                                                             5\n",
       "MDD, Recurrent, Mild                                                                   2\n",
       "MDD, Single Episode, Mild                                                              2\n",
       "MDD, recurrent episodes                                                                2\n",
       "Depression with suicidal ideation                                                      2\n",
       "Bipolar II Disorder                                                                    1\n",
       "Mood Disorder NOS                                                                      1\n",
       "Unspecified Depressive Disorder                                                        1\n",
       "Major depressive disorder, recurrent episode, severe, with psychosis                   1\n",
       "Major depression, melancholic type                                                     1\n",
       "Major depressive disorder, recurrent episode with anxious distress                     1\n",
       "MDD, single episode with psychotic features, mood-conguent                             1\n",
       "Adjustment Disorder With Depressed Mood                                                1\n",
       "Major depressive disorder, recurrent, with postpartum onset                            1\n",
       "MDD, recurrent, severe with atypical features                                          1\n",
       "Schizoaffective Disorder                                                               1\n",
       "Dissociative Disorder NOS                                                              1\n",
       "Name: Diagnosis, dtype: int64"
      ]
     },
     "execution_count": 8,
     "metadata": {},
     "output_type": "execute_result"
    }
   ],
   "source": [
    "# take a look at the Diagnosis column\n",
    "# here we can see that we can combine some diagnosis together \n",
    "# also the frequency and severity of the illness is kept in this text field\n",
    "df.Diagnosis.value_counts()"
   ]
  },
  {
   "cell_type": "markdown",
   "metadata": {},
   "source": [
    "# **Diagnosis Feature Engineering**\n",
    "\n",
    "**A key feature of the data set is the free text Diagnosis column. In order to make sense of this feature I clustered some diagnosis together and created new features indicating the**\n",
    "1. diagnosis_type -> which states the main diagnosis given\n",
    "2. frequency      -> which states the frequency the illness appears\n",
    "3. severity       -> which states the severity of the illness\n",
    "4. features       -> special \"features\" of the illness e.g. anxiety or psychotic features"
   ]
  },
  {
   "cell_type": "code",
   "execution_count": 9,
   "metadata": {},
   "outputs": [
    {
     "name": "stdout",
     "output_type": "stream",
     "text": [
      "Count of unique diagnosis: \n",
      "major_depressive_disorder    1104\n",
      "depression                    267\n",
      "NaN                           125\n",
      "mood_disorder                   1\n",
      "schizoaffective_disorder        1\n",
      "adjustment_disorder             1\n",
      "bipolar_disorder                1\n",
      "Name: diagnosis_type, dtype: int64\n",
      "\n",
      "Count of frequencies: \n",
      "recurrent    715\n",
      "NaN          513\n",
      "single       272\n",
      "Name: frequency, dtype: int64\n",
      "\n",
      "Count of severity stages: \n",
      "NaN         801\n",
      "severe      661\n",
      "moderate     21\n",
      "chronic      13\n",
      "mild          4\n",
      "Name: severity, dtype: int64\n",
      "\n",
      "Count of features: \n",
      "NaN          1396\n",
      "psychotic      86\n",
      "anxiety        17\n",
      "atypical        1\n",
      "Name: features, dtype: int64\n"
     ]
    }
   ],
   "source": [
    "# put similar diagnosis types together\n",
    "# diagnosis_type -> states the main diagnosis given\n",
    "# frequency      -> states the frequency the illness appears\n",
    "# severity       -> states the severity of the illness\n",
    "# features       -> special \"features\" of the illness e.g. anxiety or psychotic features\n",
    "\n",
    "for idx,row in df.iterrows():\n",
    "    if row[\"Diagnosis\"] == \"MDD, Recurrent, Severe Without Psychotic Features\":\n",
    "        df.loc[idx,\"diagnosis_type\"] = \"major_depressive_disorder\"\n",
    "        df.loc[idx,\"frequency\"] = \"recurrent\"\n",
    "        df.loc[idx,\"severity\"] = \"severe\"\n",
    "        df.loc[idx,\"features\"] = None\n",
    "    elif row[\"Diagnosis\"] == \"Depressive Disorder NOS\":\n",
    "        df.loc[idx,\"diagnosis_type\"] = \"depression\"\n",
    "    elif row[\"Diagnosis\"] == \"MDD, Recurrent, Unspecified\":\n",
    "        df.loc[idx,\"diagnosis_type\"] = \"major_depressive_disorder\"\n",
    "        df.loc[idx,\"frequency\"] = \"recurrent\"\n",
    "    elif row[\"Diagnosis\"] == \"MDD, Single Episode,Severe Without Psychotic Features\":\n",
    "        df.loc[idx,\"diagnosis_type\"] = \"major_depressive_disorder\"\n",
    "        df.loc[idx,\"frequency\"] = \"single\"\n",
    "        df.loc[idx,\"severity\"] = \"severe\"\n",
    "        df.loc[idx,\"features\"] = None\n",
    "    elif row[\"Diagnosis\"] == \"MDD\" or row[\"Diagnosis\"] == \"Unspecified Depressive Disorder\" or row[\"Diagnosis\"] == \"Major depression, melancholic type\":\n",
    "        df.loc[idx,\"diagnosis_type\"] = \"major_depressive_disorder\"\n",
    "    elif row[\"Diagnosis\"]==\"row MDD, Single Episode, Severe With Psychotic Features\":\n",
    "        df.loc[idx,\"diagnosis_type\"] = \"major_depressive_disorder\"\n",
    "        df.loc[idx,\"frequency\"] = \"single\"\n",
    "        df.loc[idx,\"severity\"] = \"severe\"\n",
    "        df.loc[idx,\"features\"] = \"psychotic\"\n",
    "    elif row[\"Diagnosis\"] == \"MDD, Recurrent, Severe With Psychotic Features\" \\\n",
    "        or row[\"Diagnosis\"] == \"Major depressive disorder, recurrent episode, severe, with psychosis\":\n",
    "        df.loc[idx,\"diagnosis_type\"] = \"major_depressive_disorder\"\n",
    "        df.loc[idx,\"frequency\"] = \"recurrent\"\n",
    "        df.loc[idx,\"severity\"] = \"severe\"\n",
    "        df.loc[idx,\"features\"] = \"psychotic\"\n",
    "    elif row[\"Diagnosis\"] == \"MDD, Single Episode, Unspecified\":\n",
    "        df.loc[idx,\"diagnosis_type\"] = \"major_depressive_disorder\"\n",
    "        df.loc[idx,\"frequency\"] = \"single\"\n",
    "    elif row[\"Diagnosis\"] == \"MDD, Recurrent, Moderate\":\n",
    "        df.loc[idx,\"diagnosis_type\"] = \"major_depressive_disorder\"\n",
    "        df.loc[idx,\"frequency\"] = \"recurrent\"\n",
    "        df.loc[idx,\"severity\"] = \"moderate\"\n",
    "    elif row[\"Diagnosis\"] == \"MDD, Recurrent, Chronic\":\n",
    "        df.loc[idx,\"diagnosis_type\"] = \"major_depressive_disorder\"\n",
    "        df.loc[idx,\"frequency\"] = \"recurrent\"\n",
    "        df.loc[idx,\"severity\"] = \"chronic\"\n",
    "    elif row[\"Diagnosis\"] == \"MDD, recurrent, severe\":\n",
    "        df.loc[idx,\"diagnosis_type\"] = \"major_depressive_disorder\"\n",
    "        df.loc[idx,\"frequency\"] = \"recurrent\"\n",
    "        df.loc[idx,\"severity\"] = \"severe\"\n",
    "    elif row[\"Diagnosis\"] == \"Severe episode of recurrent major depressive disorder, without psychotic features\":\n",
    "        df.loc[idx,\"diagnosis_type\"] = \"major_depressive_disorder\"\n",
    "        df.loc[idx,\"frequency\"] = \"recurrent\"\n",
    "        df.loc[idx,\"severity\"] = \"severe\"\n",
    "        df.loc[idx,\"features\"] = None\n",
    "    elif row[\"Diagnosis\"] == \"MDD, Single Episode, Moderate\":\n",
    "        df.loc[idx,\"diagnosis_type\"] = \"major_depressive_disorder\"\n",
    "        df.loc[idx,\"frequency\"] = \"single\"\n",
    "        df.loc[idx,\"severity\"] = \"moderate\"\n",
    "    elif row[\"Diagnosis\"] == \"\\tDepression, unspecified type \":\n",
    "        df.loc[idx,\"diagnosis_type\"] = \"depression\"\n",
    "    elif row[\"Diagnosis\"] == \"MDD, Recurrent, Mild\":\n",
    "        df.loc[idx,\"diagnosis_type\"] = \"major_depressive_disorder\"\n",
    "        df.loc[idx,\"frequency\"] = \"recurrent\"\n",
    "        df.loc[idx,\"severity\"] = \"mild\"\n",
    "    elif row[\"Diagnosis\"] == \"MDD, Single Episode, Mild\":\n",
    "        df.loc[idx,\"diagnosis_type\"] = \"major_depressive_disorder\"\n",
    "        df.loc[idx,\"frequency\"] = \"single\"\n",
    "        df.loc[idx,\"severity\"] = \"mild\"\n",
    "    elif row[\"Diagnosis\"] == \"MDD, recurrent episodes\":\n",
    "        df.loc[idx,\"diagnosis_type\"] = \"major_depressive_disorder\"\n",
    "        df.loc[idx,\"frequency\"] = \"recurrent\"\n",
    "    elif row[\"Diagnosis\"] == \"Depression with suicidal ideation\":\n",
    "        df.loc[idx,\"diagnosis_type\"] = \"depression\"\n",
    "        df.loc[idx,\"severity\"] = \"severe\"\n",
    "    elif row[\"Diagnosis\"] == \"Bipolar II Disorder\":\n",
    "        df.loc[idx,\"diagnosis_type\"] = \"bipolar_disorder\"\n",
    "    elif row[\"Diagnosis\"] == \"Mood Disorder NOS\":\n",
    "        df.loc[idx,\"diagnosis_type\"] = \"mood_disorder\"\n",
    "    elif row[\"Diagnosis\"] == \"Major depressive disorder, recurrent episode with anxious distress\" or row[\"Diagnosis\"] == \"\\tMDD, recurrent episode with anxious distress\":\n",
    "        df.loc[idx,\"diagnosis_type\"] = \"major_depressive_disorder\"\n",
    "        df.loc[idx,\"frequency\"] = \"recurrent\"\n",
    "        df.loc[idx,\"features\"] = \"anxiety\"\n",
    "    elif row[\"Diagnosis\"] == \"MDD, single episode with psychotic features, mood-conguent\":\n",
    "        df.loc[idx,\"diagnosis_type\"] = \"major_depressive_disorder\"\n",
    "        df.loc[idx,\"frequency\"] = \"single\"\n",
    "        df.loc[idx,\"features\"] = \"psychotic\"\n",
    "    elif row[\"Diagnosis\"] == \"Adjustment Disorder With Depressed Mood\":\n",
    "        df.loc[idx,\"diagnosis_type\"] = \"adjustment_disorder\"\n",
    "    elif row[\"Diagnosis\"] == \"Major depressive disorder, recurrent, with postpartum onset\":\n",
    "        df.loc[idx,\"diagnosis_type\"] = \"major_depressive_disorder\"\n",
    "        df.loc[idx,\"frequency\"] = \"recurrent\"\n",
    "    elif row[\"Diagnosis\"] == \"MDD, recurrent, severe with atypical features\":\n",
    "        df.loc[idx,\"diagnosis_type\"] = \"major_depressive_disorder\"\n",
    "        df.loc[idx,\"frequency\"] = \"recurrent\"\n",
    "        df.loc[idx,\"severity\"] = \"severe\"\n",
    "        df.loc[idx,\"features\"] = \"atypical\"\n",
    "    elif row[\"Diagnosis\"] == \"Schizoaffective Disorder\":\n",
    "        df.loc[idx,\"diagnosis_type\"] = \"schizoaffective_disorder\"\n",
    "    elif row[\"Diagnosis\"] == \"Dissociative Disorder\":\n",
    "        df.loc[idx,\"diagnosis_type\"] = \"dissociative_disorder\"\n",
    "\n",
    "print(\"Count of unique diagnosis: \")\n",
    "print(df.diagnosis_type.value_counts(dropna=False))\n",
    "print(\"\")\n",
    "print(\"Count of frequencies: \")\n",
    "print(df.frequency.value_counts(dropna=False))\n",
    "print(\"\")\n",
    "print(\"Count of severity stages: \")\n",
    "print(df.severity.value_counts(dropna=False))\n",
    "print(\"\")\n",
    "print(\"Count of features: \")\n",
    "print(df.features.value_counts(dropna=False))\n"
   ]
  },
  {
   "cell_type": "code",
   "execution_count": 10,
   "metadata": {},
   "outputs": [],
   "source": [
    "# cast the values to categorical values and substitute them with dummy numerical values\n",
    "df['diagnosis_type'] = df['diagnosis_type'].astype('category').cat.codes\n",
    "df['frequency'] = df['frequency'].astype('category').cat.codes\n",
    "df['severity'] = df['severity'].astype('category').cat.codes\n",
    "df['features'] = df['features'].astype('category').cat.codes"
   ]
  },
  {
   "cell_type": "code",
   "execution_count": 11,
   "metadata": {},
   "outputs": [],
   "source": [
    "# drop the Diagnosis and ID columns as the have no value for the prediction\n",
    "df.drop([\"Diagnosis\",\"ID\"], axis=1, inplace=True)"
   ]
  },
  {
   "cell_type": "code",
   "execution_count": 12,
   "metadata": {},
   "outputs": [
    {
     "data": {
      "text/plain": [
       "Index(['GENDER', 'AGE', 'RACE/ETHNICITY', 'MD', 'Assignment', 'EMR', 'LOS',\n",
       "       'RAR', 'A', 'B', 'C', 'D', 'E', 'F', 'G', 'H', 'I', 'J', 'K', 'L', 'M',\n",
       "       'N', 'O', 'P', 'Q', 'R', 'S', 'T', 'U', 'V', 'W', 'X', 'Y', 'Z', 'AA',\n",
       "       'AB', 'AC', 'AD', '# Psychotropic Medications', '# Administrations',\n",
       "       'Therapeutic Guidances', 'diagnosis_type', 'frequency', 'severity',\n",
       "       'features'],\n",
       "      dtype='object')"
      ]
     },
     "execution_count": 12,
     "metadata": {},
     "output_type": "execute_result"
    }
   ],
   "source": [
    "# columns in the current data set\n",
    "df.columns"
   ]
  },
  {
   "cell_type": "code",
   "execution_count": 13,
   "metadata": {},
   "outputs": [],
   "source": [
    "# split the data in train and test set\n",
    "from sklearn.model_selection import train_test_split\n",
    "\n",
    "X=df.drop(columns=\"LOS\")\n",
    "y=df[\"LOS\"]\n",
    "\n",
    "X_train, X_test, y_train, y_test = train_test_split(X, y, test_size=0.2, random_state=42, shuffle=True)\n",
    "\n",
    "\n"
   ]
  },
  {
   "cell_type": "code",
   "execution_count": 14,
   "metadata": {},
   "outputs": [
    {
     "data": {
      "text/plain": [
       "((1200, 44), (1200,))"
      ]
     },
     "execution_count": 14,
     "metadata": {},
     "output_type": "execute_result"
    }
   ],
   "source": [
    "# we have 1200 observations in the training set and 300 in the test set\n",
    "X_train.shape, y_train.shape"
   ]
  },
  {
   "cell_type": "code",
   "execution_count": 15,
   "metadata": {},
   "outputs": [
    {
     "name": "stdout",
     "output_type": "stream",
     "text": [
      "Fitting 3 folds for each of 10 candidates, totalling 30 fits\n"
     ]
    },
    {
     "name": "stderr",
     "output_type": "stream",
     "text": [
      "/Users/dominikBietsch/Desktop/kaggle_projects/venv/lib/python3.9/site-packages/sklearn/neural_network/_multilayer_perceptron.py:692: ConvergenceWarning: Stochastic Optimizer: Maximum iterations (1100) reached and the optimization hasn't converged yet.\n",
      "  warnings.warn(\n",
      "/Users/dominikBietsch/Desktop/kaggle_projects/venv/lib/python3.9/site-packages/sklearn/neural_network/_multilayer_perceptron.py:692: ConvergenceWarning: Stochastic Optimizer: Maximum iterations (1100) reached and the optimization hasn't converged yet.\n",
      "  warnings.warn(\n",
      "/Users/dominikBietsch/Desktop/kaggle_projects/venv/lib/python3.9/site-packages/sklearn/neural_network/_multilayer_perceptron.py:692: ConvergenceWarning: Stochastic Optimizer: Maximum iterations (600) reached and the optimization hasn't converged yet.\n",
      "  warnings.warn(\n",
      "/Users/dominikBietsch/Desktop/kaggle_projects/venv/lib/python3.9/site-packages/sklearn/neural_network/_multilayer_perceptron.py:692: ConvergenceWarning: Stochastic Optimizer: Maximum iterations (600) reached and the optimization hasn't converged yet.\n",
      "  warnings.warn(\n",
      "/Users/dominikBietsch/Desktop/kaggle_projects/venv/lib/python3.9/site-packages/sklearn/neural_network/_multilayer_perceptron.py:692: ConvergenceWarning: Stochastic Optimizer: Maximum iterations (100) reached and the optimization hasn't converged yet.\n",
      "  warnings.warn(\n",
      "/Users/dominikBietsch/Desktop/kaggle_projects/venv/lib/python3.9/site-packages/sklearn/neural_network/_multilayer_perceptron.py:692: ConvergenceWarning: Stochastic Optimizer: Maximum iterations (100) reached and the optimization hasn't converged yet.\n",
      "  warnings.warn(\n",
      "/Users/dominikBietsch/Desktop/kaggle_projects/venv/lib/python3.9/site-packages/sklearn/neural_network/_multilayer_perceptron.py:692: ConvergenceWarning: Stochastic Optimizer: Maximum iterations (100) reached and the optimization hasn't converged yet.\n",
      "  warnings.warn(\n",
      "/Users/dominikBietsch/Desktop/kaggle_projects/venv/lib/python3.9/site-packages/sklearn/neural_network/_multilayer_perceptron.py:692: ConvergenceWarning: Stochastic Optimizer: Maximum iterations (600) reached and the optimization hasn't converged yet.\n",
      "  warnings.warn(\n",
      "/Users/dominikBietsch/Desktop/kaggle_projects/venv/lib/python3.9/site-packages/sklearn/neural_network/_multilayer_perceptron.py:692: ConvergenceWarning: Stochastic Optimizer: Maximum iterations (600) reached and the optimization hasn't converged yet.\n",
      "  warnings.warn(\n",
      "/Users/dominikBietsch/Desktop/kaggle_projects/venv/lib/python3.9/site-packages/sklearn/neural_network/_multilayer_perceptron.py:692: ConvergenceWarning: Stochastic Optimizer: Maximum iterations (600) reached and the optimization hasn't converged yet.\n",
      "  warnings.warn(\n",
      "/Users/dominikBietsch/Desktop/kaggle_projects/venv/lib/python3.9/site-packages/sklearn/neural_network/_multilayer_perceptron.py:692: ConvergenceWarning: Stochastic Optimizer: Maximum iterations (1100) reached and the optimization hasn't converged yet.\n",
      "  warnings.warn(\n",
      "/Users/dominikBietsch/Desktop/kaggle_projects/venv/lib/python3.9/site-packages/sklearn/neural_network/_multilayer_perceptron.py:692: ConvergenceWarning: Stochastic Optimizer: Maximum iterations (1100) reached and the optimization hasn't converged yet.\n",
      "  warnings.warn(\n",
      "/Users/dominikBietsch/Desktop/kaggle_projects/venv/lib/python3.9/site-packages/sklearn/neural_network/_multilayer_perceptron.py:692: ConvergenceWarning: Stochastic Optimizer: Maximum iterations (1100) reached and the optimization hasn't converged yet.\n",
      "  warnings.warn(\n"
     ]
    },
    {
     "name": "stdout",
     "output_type": "stream",
     "text": [
      "MLPRegressor(alpha=1, hidden_layer_sizes=100, learning_rate='adaptive',\n",
      "             max_iter=1100, random_state=0, solver='sgd')\n"
     ]
    }
   ],
   "source": [
    "from sklearn.neural_network import MLPRegressor\n",
    "from sklearn.metrics import mean_squared_error, r2_score\n",
    "from sklearn.model_selection import RandomizedSearchCV\n",
    "\n",
    "# define parameter space\n",
    "max_iter = np.arange(100, 3000, step=500)\n",
    "\n",
    "parameter_space = {\n",
    "    'hidden_layer_sizes': [(20,),(128,64,32,16,4), (64,32,16,8,4), (32,16,8,4,2), (16,8,4,2,1), (100)],\n",
    "    'activation': ['tanh', 'relu'],\n",
    "    'solver': ['sgd', 'adam'],\n",
    "    'alpha': [0.0001, 0.001, 0.05,1, 2],\n",
    "    'learning_rate': ['constant','adaptive'],\n",
    "    'max_iter': max_iter\n",
    "}\n",
    "\n",
    "# define model\n",
    "model = MLPRegressor(random_state=0)\n",
    "\n",
    "clf = RandomizedSearchCV(model, parameter_space, n_jobs=-1, cv=3, verbose=1)\n",
    "clf.fit(X_train, y_train)\n",
    "\n",
    "# get best hyperparameter combination - best estimator\n",
    "print(clf.best_estimator_)"
   ]
  },
  {
   "cell_type": "code",
   "execution_count": 16,
   "metadata": {},
   "outputs": [
    {
     "name": "stdout",
     "output_type": "stream",
     "text": [
      "Mean squared error (MSE):  9.02\n",
      "Coefficient of determination (R^2):  0.7\n"
     ]
    },
    {
     "data": {
      "text/plain": [
       "Text(0, 0.5, 'Predicted Value')"
      ]
     },
     "execution_count": 16,
     "metadata": {},
     "output_type": "execute_result"
    },
    {
     "data": {
      "image/png": "[encoded data removed]",
      "text/plain": [
       "<Figure size 432x288 with 1 Axes>"
      ]
     },
     "metadata": {
      "needs_background": "light"
     },
     "output_type": "display_data"
    }
   ],
   "source": [
    "model = clf.best_estimator_\n",
    "\n",
    "y_pred = model.predict(X_test)\n",
    "\n",
    "\n",
    "print(f\"Mean squared error (MSE): \", round(mean_squared_error(y_test, y_pred),2))\n",
    "print(f\"Coefficient of determination (R^2): \", round(r2_score(y_test, y_pred),2))\n",
    "\n",
    "sns.scatterplot(y_test, y_pred, alpha=0.5, )\n",
    "plt.xlabel('Actual Value')\n",
    "# Set y-axis label\n",
    "plt.ylabel('Predicted Value')"
   ]
  },
  {
   "cell_type": "code",
   "execution_count": 17,
   "metadata": {},
   "outputs": [
    {
     "name": "stdout",
     "output_type": "stream",
     "text": [
      "Index(['GENDER', 'AGE', 'RACE/ETHNICITY', 'MD', 'Assignment', 'EMR', 'LOS',\n",
      "       'RAR', 'A', 'B', 'C', 'D', 'E', 'F', 'G', 'H', 'I', 'J', 'K', 'L', 'M',\n",
      "       'N', 'O', 'P', 'Q', 'R', 'S', 'T', 'U', 'V', 'W', 'X', 'Y', 'Z', 'AA',\n",
      "       'AB', 'AC', 'AD', '# Psychotropic Medications', '# Administrations',\n",
      "       'Therapeutic Guidances', 'diagnosis_type', 'frequency', 'severity',\n",
      "       'features'],\n",
      "      dtype='object')\n"
     ]
    }
   ],
   "source": [
    "print(df.columns)"
   ]
  },
  {
   "cell_type": "code",
   "execution_count": 18,
   "metadata": {},
   "outputs": [
    {
     "name": "stdout",
     "output_type": "stream",
     "text": [
      "RandomForestRegressor(max_depth=50, min_samples_leaf=2, min_samples_split=4,\n",
      "                      n_estimators=1300, random_state=0)\n"
     ]
    }
   ],
   "source": [
    "\n",
    "from sklearn.ensemble import RandomForestRegressor\n",
    "from sklearn.metrics import mean_squared_error, r2_score\n",
    "from sklearn.model_selection import RandomizedSearchCV\n",
    "\n",
    "# define parameter space that is to be searched\n",
    "n_estimators = np.arange(100, 2000, step=100)\n",
    "max_features = [\"auto\", \"sqrt\", \"log2\"]\n",
    "max_depth = list(np.arange(10, 100, step=10)) + [None]\n",
    "min_samples_split = np.arange(2, 10, step=2)\n",
    "min_samples_leaf = [1, 2, 4]\n",
    "bootstrap = [True, False]\n",
    "\n",
    "parameter_space = {\n",
    "    \"n_estimators\": n_estimators,\n",
    "    \"max_features\": max_features,\n",
    "    \"max_depth\": max_depth,\n",
    "    \"min_samples_split\": min_samples_split,\n",
    "    \"min_samples_leaf\": min_samples_leaf,\n",
    "    \"bootstrap\": bootstrap,\n",
    "}\n",
    "\n",
    "model = RandomForestRegressor(random_state=0)\n",
    "\n",
    "clf = RandomizedSearchCV(model, parameter_space, n_jobs=-1, cv=3)\n",
    "clf.fit(X_train, y_train)\n",
    "\n",
    "# get best hyperparameter combination - best estimator\n",
    "print(clf.best_estimator_)"
   ]
  },
  {
   "cell_type": "code",
   "execution_count": 19,
   "metadata": {},
   "outputs": [
    {
     "name": "stdout",
     "output_type": "stream",
     "text": [
      "Mean squared error (MSE):  8.09\n",
      "Coefficient of determination (R^2):  0.73\n"
     ]
    },
    {
     "data": {
      "text/plain": [
       "Text(0, 0.5, 'Predicted Value')"
      ]
     },
     "execution_count": 19,
     "metadata": {},
     "output_type": "execute_result"
    },
    {
     "data": {
      "image/png": "[encoded data removed]",
      "text/plain": [
       "<Figure size 432x288 with 1 Axes>"
      ]
     },
     "metadata": {
      "needs_background": "light"
     },
     "output_type": "display_data"
    }
   ],
   "source": [
    "model = clf.best_estimator_\n",
    "\n",
    "y_pred = model.predict(X_test)\n",
    "\n",
    "print(f\"Mean squared error (MSE): \", round(mean_squared_error(y_test, y_pred),2))\n",
    "print(f\"Coefficient of determination (R^2): \", round(r2_score(y_test, y_pred),2))\n",
    "\n",
    "sns.scatterplot(y_test, y_pred, alpha=0.5, )\n",
    "plt.xlabel('Actual Value')\n",
    "# Set y-axis label\n",
    "plt.ylabel('Predicted Value')"
   ]
  },
  {
   "cell_type": "code",
   "execution_count": 28,
   "metadata": {},
   "outputs": [
    {
     "data": {
      "text/plain": [
       "<AxesSubplot:>"
      ]
     },
     "execution_count": 28,
     "metadata": {},
     "output_type": "execute_result"
    },
    {
     "data": {
      "image/png": "[encoded data removed]",
      "text/plain": [
       "<Figure size 432x288 with 1 Axes>"
      ]
     },
     "metadata": {
      "needs_background": "light"
     },
     "output_type": "display_data"
    }
   ],
   "source": [
    "\n",
    "feat_importances = pd.Series(model.feature_importances_, index=X.columns)\n",
    "feat_importances.nlargest(20).plot(kind='barh')"
   ]
  },
  {
   "cell_type": "code",
   "execution_count": null,
   "metadata": {},
   "outputs": [],
   "source": []
  }
 ],
 "metadata": {
  "interpreter": {
   "hash": "cae12a25cd18c6d5dc586daf9250df08cce0306051438b594e10cb31ea57e054"
  },
  "kernelspec": {
   "display_name": "Python 3.9.7 64-bit ('venv': venv)",
   "name": "python3"
  },
  "language_info": {
   "codemirror_mode": {
    "name": "ipython",
    "version": 3
   },
   "file_extension": ".py",
   "mimetype": "text/x-python",
   "name": "python",
   "nbconvert_exporter": "python",
   "pygments_lexer": "ipython3",
   "version": "3.9.7"
  },
  "orig_nbformat": 4
 },
 "nbformat": 4,
 "nbformat_minor": 2
}
